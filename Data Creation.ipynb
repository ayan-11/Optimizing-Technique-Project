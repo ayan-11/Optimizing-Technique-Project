{
 "cells": [
  {
   "cell_type": "code",
   "execution_count": 1,
   "id": "2b6caf42",
   "metadata": {},
   "outputs": [
    {
     "name": "stdout",
     "output_type": "stream",
     "text": [
      "           Dish Name  Profit per Dish  Ingredient Usage (units)  \\\n",
      "0            Biryani               11                         2   \n",
      "1     Butter Chicken               24                         5   \n",
      "2        Masala Dosa               19                         1   \n",
      "3         Rogan Josh               15                         6   \n",
      "4       Palak Paneer               12                         9   \n",
      "5      Chole Bhature               11                         1   \n",
      "6             Samosa               23                         3   \n",
      "7       Aloo Paratha               15                         7   \n",
      "8       Paneer Tikka               15                         4   \n",
      "9   Tandoori Chicken                8                         9   \n",
      "10          Vada Pav               12                         3   \n",
      "11         Pani Puri                7                         5   \n",
      "12       Dal Makhani                6                         3   \n",
      "13            Kebabs               16                         7   \n",
      "14       Gulab Jamun               10                         5   \n",
      "\n",
      "    Preparation Time (hours)  \n",
      "0                       0.73  \n",
      "1                       0.12  \n",
      "2                       1.42  \n",
      "3                       0.89  \n",
      "4                       0.64  \n",
      "5                       0.12  \n",
      "6                       0.42  \n",
      "7                       0.44  \n",
      "8                       1.06  \n",
      "9                       0.95  \n",
      "10                      1.27  \n",
      "11                      0.34  \n",
      "12                      0.65  \n",
      "13                      0.36  \n",
      "14                      1.16  \n"
     ]
    }
   ],
   "source": [
    "import pandas as pd\n",
    "import numpy as np\n",
    "\n",
    "# Set a seed for reproducibility\n",
    "np.random.seed(42)\n",
    "\n",
    "# Parameters\n",
    "num_dishes = 15  # Number of dishes to generate\n",
    "dish_names = [\n",
    "    \"Biryani\", \"Butter Chicken\", \"Masala Dosa\", \"Rogan Josh\", \"Palak Paneer\",\n",
    "    \"Chole Bhature\", \"Samosa\", \"Aloo Paratha\", \"Paneer Tikka\", \"Tandoori Chicken\",\n",
    "    \"Vada Pav\", \"Pani Puri\", \"Dal Makhani\", \"Kebabs\", \"Gulab Jamun\"\n",
    "]\n",
    "\n",
    "# Generate random data\n",
    "profits = np.random.randint(5, 25, size=num_dishes)  # Random profit between 5 and 25\n",
    "ingredient_usage = np.random.randint(1, 10, size=num_dishes)  # Random ingredient usage between 1 and 10 units\n",
    "prep_time = np.random.uniform(0.1, 1.5, size=num_dishes).round(2)  # Random prep time between 0.1 and 1.5 hours\n",
    "\n",
    "# Create a DataFrame\n",
    "df = pd.DataFrame({\n",
    "    'Dish Name': dish_names,\n",
    "    'Profit per Dish': profits,\n",
    "    'Ingredient Usage (units)': ingredient_usage,\n",
    "    'Preparation Time (hours)': prep_time\n",
    "})\n",
    "\n",
    "# Save the synthetic dataset to a CSV file\n",
    "df.to_csv('restaurant_data_india.csv', index=False)\n",
    "\n",
    "# Print the dataset\n",
    "print(df)\n"
   ]
  },
  {
   "cell_type": "code",
   "execution_count": null,
   "id": "df6ed625",
   "metadata": {},
   "outputs": [],
   "source": []
  }
 ],
 "metadata": {
  "kernelspec": {
   "display_name": "Python 3 (ipykernel)",
   "language": "python",
   "name": "python3"
  },
  "language_info": {
   "codemirror_mode": {
    "name": "ipython",
    "version": 3
   },
   "file_extension": ".py",
   "mimetype": "text/x-python",
   "name": "python",
   "nbconvert_exporter": "python",
   "pygments_lexer": "ipython3",
   "version": "3.11.3"
  }
 },
 "nbformat": 4,
 "nbformat_minor": 5
}
