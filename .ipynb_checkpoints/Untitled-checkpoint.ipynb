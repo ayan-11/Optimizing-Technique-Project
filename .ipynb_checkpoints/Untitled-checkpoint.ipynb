{
 "cells": [
  {
   "cell_type": "code",
   "execution_count": 1,
   "id": "1bdf31b6",
   "metadata": {},
   "outputs": [],
   "source": [
    "import pandas as pd\n",
    "import numpy as np\n",
    "import pulp\n",
    "\n",
    "# Set a seed for reproducibility\n",
    "np.random.seed(42)\n",
    "\n",
    "# Parameters\n",
    "num_dishes = 15  # Number of dishes to generate\n",
    "dish_names = [\n",
    "    \"Biryani\", \"Butter Chicken\", \"Masala Dosa\", \"Rogan Josh\", \"Palak Paneer\",\n",
    "    \"Chole Bhature\", \"Samosa\", \"Aloo Paratha\", \"Paneer Tikka\", \"Tandoori Chicken\",\n",
    "    \"Vada Pav\", \"Pani Puri\", \"Dal Makhani\", \"Kebabs\", \"Gulab Jamun\"\n",
    "]\n",
    "\n",
    "# Generate random data\n",
    "profits = np.random.randint(5, 25, size=num_dishes)  # Random profit between 5 and 25\n",
    "ingredient_usage = np.random.randint(1, 10, size=num_dishes)  # Random ingredient usage between 1 and 10 units\n",
    "prep_time = np.random.uniform(0.1, 1.5, size=num_dishes).round(2)  # Random prep time between 0.1 and 1.5 hours\n",
    "\n",
    "# Create a DataFrame\n",
    "df = pd.DataFrame({\n",
    "    'Dish Name': dish_names,\n",
    "    'Profit per Dish': profits,\n",
    "    'Ingredient Usage (units)': ingredient_usage,\n",
    "    'Preparation Time (hours)': prep_time\n",
    "})\n",
    "\n",
    "# Save the synthetic dataset to a CSV file\n",
    "df.to_csv('restaurant_data_india_new.csv', index=False)\n"
   ]
  },
  {
   "cell_type": "code",
   "execution_count": 2,
   "id": "b9164fcc",
   "metadata": {},
   "outputs": [
    {
     "name": "stdout",
     "output_type": "stream",
     "text": [
      "           Dish Name  Profit per Dish  Ingredient Usage (units)  \\\n",
      "0            Biryani               11                         2   \n",
      "1     Butter Chicken               24                         5   \n",
      "2        Masala Dosa               19                         1   \n",
      "3         Rogan Josh               15                         6   \n",
      "4       Palak Paneer               12                         9   \n",
      "5      Chole Bhature               11                         1   \n",
      "6             Samosa               23                         3   \n",
      "7       Aloo Paratha               15                         7   \n",
      "8       Paneer Tikka               15                         4   \n",
      "9   Tandoori Chicken                8                         9   \n",
      "10          Vada Pav               12                         3   \n",
      "11         Pani Puri                7                         5   \n",
      "12       Dal Makhani                6                         3   \n",
      "13            Kebabs               16                         7   \n",
      "14       Gulab Jamun               10                         5   \n",
      "\n",
      "    Preparation Time (hours)  \n",
      "0                       0.73  \n",
      "1                       0.12  \n",
      "2                       1.42  \n",
      "3                       0.89  \n",
      "4                       0.64  \n",
      "5                       0.12  \n",
      "6                       0.42  \n",
      "7                       0.44  \n",
      "8                       1.06  \n",
      "9                       0.95  \n",
      "10                      1.27  \n",
      "11                      0.34  \n",
      "12                      0.65  \n",
      "13                      0.36  \n",
      "14                      1.16  \n"
     ]
    }
   ],
   "source": [
    "# Load the dataset\n",
    "df = pd.read_csv('restaurant_data_india_new.csv')\n",
    "print(df)\n"
   ]
  },
  {
   "cell_type": "markdown",
   "id": "909367f7",
   "metadata": {},
   "source": [
    "# Define a function to solve the Linear Programming problem with given constraints\n",
    "# This function takes ingredient limit, labor limit, and optional minimum/maximum dish constraints\n",
    "# It returns the optimization results, including status, total profit, and quantity of each dish"
   ]
  },
  {
   "cell_type": "code",
   "execution_count": 3,
   "id": "27e823f2",
   "metadata": {},
   "outputs": [],
   "source": [
    "def solve_lp_problem(ingredient_limit, labor_limit, min_demand=None, max_production=None):\n",
    "    # Create a LP problem\n",
    "    prob = pulp.LpProblem(\"Maximize_Profit\", pulp.LpMaximize)\n",
    "\n",
    "    # Create decision variables\n",
    "    dishes = df['Dish Name']\n",
    "    profit_per_dish = df['Profit per Dish'].values\n",
    "    ingredient_usage = df['Ingredient Usage (units)'].values\n",
    "    prep_time = df['Preparation Time (hours)'].values\n",
    "\n",
    "    # Decision variable for each dish (number of dishes to prepare)\n",
    "    dish_vars = pulp.LpVariable.dicts(\"Dishes\", dishes, lowBound=0, cat='Integer')\n",
    "\n",
    "    # Define the objective function (maximize total profit)\n",
    "    prob += pulp.lpSum([profit_per_dish[i] * dish_vars[dishes[i]] for i in range(len(dishes))]), \"Total_Profit\"\n",
    "\n",
    "    # Define constraints\n",
    "    prob += pulp.lpSum([ingredient_usage[i] * dish_vars[dishes[i]] for i in range(len(dishes))]) <= ingredient_limit, \"Ingredient_Availability\"\n",
    "    prob += pulp.lpSum([prep_time[i] * dish_vars[dishes[i]] for i in range(len(dishes))]) <= labor_limit, \"Chef_Working_Hours\"\n",
    "    \n",
    "    # Additional constraints based on inputs\n",
    "    if min_demand:\n",
    "        for dish in min_demand:\n",
    "            prob += dish_vars[dish] >= min_demand[dish], f\"Min_Demand_{dish}\"\n",
    "    \n",
    "    if max_production:\n",
    "        for dish in max_production:\n",
    "            prob += dish_vars[dish] <= max_production[dish], f\"Max_Production_{dish}\"\n",
    "\n",
    "    # Solve the problem\n",
    "    prob.solve()\n",
    "\n",
    "    # Print the results\n",
    "    results = {}\n",
    "    results[\"Status\"] = pulp.LpStatus[prob.status]\n",
    "    results[\"Total Profit\"] = pulp.value(prob.objective)\n",
    "    for dish in dishes:\n",
    "        results[dish] = dish_vars[dish].varValue\n",
    "    return results\n"
   ]
  },
  {
   "cell_type": "markdown",
   "id": "dc66baba",
   "metadata": {},
   "source": [
    "# Scenario 1: Run the LP problem with basic constraints\n",
    "# Ingredient limit of 20 units and labor limit of 10 hours\n",
    "# The output will show the optimal number of each dish to prepare and the total profit"
   ]
  },
  {
   "cell_type": "code",
   "execution_count": 4,
   "id": "0fc60f9d",
   "metadata": {},
   "outputs": [
    {
     "name": "stdout",
     "output_type": "stream",
     "text": [
      "Scenario 1 Results:\n",
      "{'Status': 'Optimal', 'Total Profit': 260.0, 'Biryani': 0.0, 'Butter Chicken': 0.0, 'Masala Dosa': 5.0, 'Rogan Josh': 0.0, 'Palak Paneer': 0.0, 'Chole Bhature': 15.0, 'Samosa': 0.0, 'Aloo Paratha': 0.0, 'Paneer Tikka': 0.0, 'Tandoori Chicken': 0.0, 'Vada Pav': 0.0, 'Pani Puri': 0.0, 'Dal Makhani': 0.0, 'Kebabs': 0.0, 'Gulab Jamun': 0.0}\n"
     ]
    }
   ],
   "source": [
    "# Scenario 1: Basic Constraints\n",
    "ingredient_limit_1 = 20  # Total available units of ingredients\n",
    "labor_limit_1 = 10  # Total available chef hours\n",
    "\n",
    "results_1 = solve_lp_problem(ingredient_limit_1, labor_limit_1)\n",
    "print(\"Scenario 1 Results:\")\n",
    "print(results_1)\n"
   ]
  },
  {
   "cell_type": "markdown",
   "id": "23327d5e",
   "metadata": {},
   "source": [
    "# Scenario 2: Run the LP problem with minimum demand constraints\n",
    "# Ingredient limit of 30 units and labor limit of 12 hours\n",
    "# Minimum demand of 3 units for Masala Dosa\n",
    "# The output will show how these constraints affect the optimal preparation strategy"
   ]
  },
  {
   "cell_type": "code",
   "execution_count": 5,
   "id": "d21adbde",
   "metadata": {},
   "outputs": [
    {
     "name": "stdout",
     "output_type": "stream",
     "text": [
      "Scenario 2 Results:\n",
      "{'Status': 'Optimal', 'Total Profit': 378.0, 'Biryani': 0.0, 'Butter Chicken': 0.0, 'Masala Dosa': 6.0, 'Rogan Josh': 0.0, 'Palak Paneer': 0.0, 'Chole Bhature': 24.0, 'Samosa': 0.0, 'Aloo Paratha': 0.0, 'Paneer Tikka': 0.0, 'Tandoori Chicken': 0.0, 'Vada Pav': 0.0, 'Pani Puri': 0.0, 'Dal Makhani': 0.0, 'Kebabs': 0.0, 'Gulab Jamun': 0.0}\n"
     ]
    }
   ],
   "source": [
    "# Scenario 2: Minimum Demand Constraints\n",
    "ingredient_limit_2 = 30  # Total available units of ingredients\n",
    "labor_limit_2 = 12  # Total available chef hours\n",
    "min_demand_2 = {'Masala Dosa': 3}  # Minimum demand for Masala Dosa\n",
    "\n",
    "results_2 = solve_lp_problem(ingredient_limit_2, labor_limit_2, min_demand=min_demand_2)\n",
    "print(\"Scenario 2 Results:\")\n",
    "print(results_2)\n"
   ]
  },
  {
   "cell_type": "markdown",
   "id": "28baebd9",
   "metadata": {},
   "source": [
    "# Scenario 3: Run the LP problem with maximum production constraints\n",
    "# Ingredient limit of 30 units and labor limit of 12 hours\n",
    "# Maximum limits for Masala Dosa (10 units) and Chole Bhature (20 units)\n",
    "# The output will show how these constraints impact the optimal results"
   ]
  },
  {
   "cell_type": "code",
   "execution_count": 6,
   "id": "c891ea47",
   "metadata": {},
   "outputs": [
    {
     "name": "stdout",
     "output_type": "stream",
     "text": [
      "Scenario 3 Results:\n",
      "{'Status': 'Optimal', 'Total Profit': 358.0, 'Biryani': 0.0, 'Butter Chicken': 0.0, 'Masala Dosa': 6.0, 'Rogan Josh': 0.0, 'Palak Paneer': 0.0, 'Chole Bhature': 18.0, 'Samosa': 2.0, 'Aloo Paratha': 0.0, 'Paneer Tikka': 0.0, 'Tandoori Chicken': 0.0, 'Vada Pav': 0.0, 'Pani Puri': 0.0, 'Dal Makhani': 0.0, 'Kebabs': 0.0, 'Gulab Jamun': 0.0}\n"
     ]
    }
   ],
   "source": [
    "# Scenario 3: Maximum Production Constraints\n",
    "ingredient_limit_3 = 30  # Total available units of ingredients\n",
    "labor_limit_3 = 12  # Total available chef hours\n",
    "max_production_3 = {'Masala Dosa': 10, 'Chole Bhature': 20}  # Maximum limits for specific dishes\n",
    "\n",
    "results_3 = solve_lp_problem(ingredient_limit_3, labor_limit_3, max_production=max_production_3)\n",
    "print(\"Scenario 3 Results:\")\n",
    "print(results_3)\n"
   ]
  },
  {
   "cell_type": "markdown",
   "id": "c61e9187",
   "metadata": {},
   "source": [
    "# Scenario 4: Run the LP problem with both minimum demand and maximum production constraints\n",
    "# Ingredient limit of 40 units and labor limit of 15 hours\n",
    "# Minimum demand of 5 units for Chole Bhature and maximum production of 5 units for Masala Dosa\n",
    "# The output will show the comprehensive results considering both constraints"
   ]
  },
  {
   "cell_type": "code",
   "execution_count": 7,
   "id": "c0a18f21",
   "metadata": {},
   "outputs": [
    {
     "name": "stdout",
     "output_type": "stream",
     "text": [
      "Scenario 4 Results:\n",
      "{'Status': 'Optimal', 'Total Profit': 480.0, 'Biryani': 0.0, 'Butter Chicken': 0.0, 'Masala Dosa': 5.0, 'Rogan Josh': 0.0, 'Palak Paneer': 0.0, 'Chole Bhature': 35.0, 'Samosa': 0.0, 'Aloo Paratha': 0.0, 'Paneer Tikka': 0.0, 'Tandoori Chicken': 0.0, 'Vada Pav': 0.0, 'Pani Puri': 0.0, 'Dal Makhani': 0.0, 'Kebabs': 0.0, 'Gulab Jamun': 0.0}\n"
     ]
    }
   ],
   "source": [
    "# Scenario 4: Both Minimum Demand and Maximum Production Constraints\n",
    "ingredient_limit_4 = 40  # Total available units of ingredients\n",
    "labor_limit_4 = 15  # Total available chef hours\n",
    "min_demand_4 = {'Chole Bhature': 5}  # Minimum demand for Chole Bhature\n",
    "max_production_4 = {'Masala Dosa': 5}  # Maximum limits for Masala Dosa\n",
    "\n",
    "results_4 = solve_lp_problem(ingredient_limit_4, labor_limit_4, min_demand=min_demand_4, max_production=max_production_4)\n",
    "print(\"Scenario 4 Results:\")\n",
    "print(results_4)\n"
   ]
  },
  {
   "cell_type": "markdown",
   "id": "c4a618f4",
   "metadata": {},
   "source": [
    "# Visualization which will show difference between the different constraints affecting the final outcome of the main function."
   ]
  },
  {
   "cell_type": "code",
   "execution_count": 11,
   "id": "18368709",
   "metadata": {
    "scrolled": false
   },
   "outputs": [
    {
     "data": {
      "image/png": "[encoded data removed]",
      "text/plain": [
       "<Figure size 1000x500 with 1 Axes>"
      ]
     },
     "metadata": {},
     "output_type": "display_data"
    }
   ],
   "source": [
    "import matplotlib.pyplot as plt\n",
    "\n",
    "# Function to visualize the results of different scenarios\n",
    "def visualize_results(scenario_results):\n",
    "    # Prepare data for visualization\n",
    "    scenario_names = list(scenario_results.keys())\n",
    "    total_profits = [result['Total Profit'] for result in scenario_results.values()]\n",
    "\n",
    "    # Create a bar plot for total profits\n",
    "    plt.figure(figsize=(10, 5))\n",
    "    plt.bar(scenario_names, total_profits, color='skyblue')\n",
    "    plt.xlabel('Scenarios')\n",
    "    plt.ylabel('Total Profit')\n",
    "    plt.title('Total Profit for Different Scenarios')\n",
    "    plt.xticks(rotation=45)\n",
    "    plt.show()\n",
    "\n",
    "# Collect the results from each scenario\n",
    "scenario_results = {\n",
    "    \"Scenario 1\": results_1,\n",
    "    \"Scenario 2\": results_2,\n",
    "    \"Scenario 3\": results_3,\n",
    "    \"Scenario 4\": results_4\n",
    "}\n",
    "\n",
    "# Call the visualization function\n",
    "visualize_results(scenario_results)\n"
   ]
  },
  {
   "cell_type": "code",
   "execution_count": null,
   "id": "831b3bc9",
   "metadata": {},
   "outputs": [],
   "source": []
  }
 ],
 "metadata": {
  "kernelspec": {
   "display_name": "Python 3 (ipykernel)",
   "language": "python",
   "name": "python3"
  },
  "language_info": {
   "codemirror_mode": {
    "name": "ipython",
    "version": 3
   },
   "file_extension": ".py",
   "mimetype": "text/x-python",
   "name": "python",
   "nbconvert_exporter": "python",
   "pygments_lexer": "ipython3",
   "version": "3.11.3"
  }
 },
 "nbformat": 4,
 "nbformat_minor": 5
}
